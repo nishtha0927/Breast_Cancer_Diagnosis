{
 "cells": [
  {
   "cell_type": "markdown",
   "metadata": {
    "id": "nSsmjk3EkwtK"
   },
   "source": [
    "**Installing the libraries**"
   ]
  },
  {
   "cell_type": "code",
   "execution_count": 1,
   "metadata": {
    "id": "FExpKjimjZ3l"
   },
   "outputs": [],
   "source": [
    "import numpy as np\n",
    "import pandas as pd\n",
    "\n",
    "import matplotlib.pyplot as plt\n",
    "import seaborn as sns"
   ]
  },
  {
   "cell_type": "markdown",
   "metadata": {
    "id": "nPNtG_a7nCBs"
   },
   "source": [
    "**Importing the dataset**"
   ]
  },
  {
   "cell_type": "code",
   "execution_count": 2,
   "metadata": {
    "colab": {
     "base_uri": "https://localhost:8080/",
     "height": 287
    },
    "id": "Y6rJ6-eZnBA7",
    "outputId": "9cb907f2-c3f0-45c0-d443-c32eeedd62f7"
   },
   "outputs": [
    {
     "name": "stdout",
     "output_type": "stream",
     "text": [
      "(4552, 32)\n"
     ]
    },
    {
     "data": {
      "text/html": [
       "<div>\n",
       "<style scoped>\n",
       "    .dataframe tbody tr th:only-of-type {\n",
       "        vertical-align: middle;\n",
       "    }\n",
       "\n",
       "    .dataframe tbody tr th {\n",
       "        vertical-align: top;\n",
       "    }\n",
       "\n",
       "    .dataframe thead th {\n",
       "        text-align: right;\n",
       "    }\n",
       "</style>\n",
       "<table border=\"1\" class=\"dataframe\">\n",
       "  <thead>\n",
       "    <tr style=\"text-align: right;\">\n",
       "      <th></th>\n",
       "      <th>id</th>\n",
       "      <th>diagnosis</th>\n",
       "      <th>radius_mean</th>\n",
       "      <th>texture_mean</th>\n",
       "      <th>perimeter_mean</th>\n",
       "      <th>area_mean</th>\n",
       "      <th>smoothness_mean</th>\n",
       "      <th>compactness_mean</th>\n",
       "      <th>concavity_mean</th>\n",
       "      <th>concave points_mean</th>\n",
       "      <th>...</th>\n",
       "      <th>radius_worst</th>\n",
       "      <th>texture_worst</th>\n",
       "      <th>perimeter_worst</th>\n",
       "      <th>area_worst</th>\n",
       "      <th>smoothness_worst</th>\n",
       "      <th>compactness_worst</th>\n",
       "      <th>concavity_worst</th>\n",
       "      <th>concave points_worst</th>\n",
       "      <th>symmetry_worst</th>\n",
       "      <th>fractal_dimension_worst</th>\n",
       "    </tr>\n",
       "  </thead>\n",
       "  <tbody>\n",
       "    <tr>\n",
       "      <th>0</th>\n",
       "      <td>1</td>\n",
       "      <td>M</td>\n",
       "      <td>17.99</td>\n",
       "      <td>10.38</td>\n",
       "      <td>122.80</td>\n",
       "      <td>1001.0</td>\n",
       "      <td>0.11840</td>\n",
       "      <td>0.27760</td>\n",
       "      <td>0.3001</td>\n",
       "      <td>0.14710</td>\n",
       "      <td>...</td>\n",
       "      <td>25.38</td>\n",
       "      <td>17.33</td>\n",
       "      <td>184.60</td>\n",
       "      <td>2019.0</td>\n",
       "      <td>0.1622</td>\n",
       "      <td>0.6656</td>\n",
       "      <td>0.7119</td>\n",
       "      <td>0.2654</td>\n",
       "      <td>0.4601</td>\n",
       "      <td>0.11890</td>\n",
       "    </tr>\n",
       "    <tr>\n",
       "      <th>1</th>\n",
       "      <td>2</td>\n",
       "      <td>M</td>\n",
       "      <td>20.57</td>\n",
       "      <td>17.77</td>\n",
       "      <td>132.90</td>\n",
       "      <td>1326.0</td>\n",
       "      <td>0.08474</td>\n",
       "      <td>0.07864</td>\n",
       "      <td>0.0869</td>\n",
       "      <td>0.07017</td>\n",
       "      <td>...</td>\n",
       "      <td>24.99</td>\n",
       "      <td>23.41</td>\n",
       "      <td>158.80</td>\n",
       "      <td>1956.0</td>\n",
       "      <td>0.1238</td>\n",
       "      <td>0.1866</td>\n",
       "      <td>0.2416</td>\n",
       "      <td>0.1860</td>\n",
       "      <td>0.2750</td>\n",
       "      <td>0.08902</td>\n",
       "    </tr>\n",
       "    <tr>\n",
       "      <th>2</th>\n",
       "      <td>3</td>\n",
       "      <td>M</td>\n",
       "      <td>19.69</td>\n",
       "      <td>21.25</td>\n",
       "      <td>130.00</td>\n",
       "      <td>1203.0</td>\n",
       "      <td>0.10960</td>\n",
       "      <td>0.15990</td>\n",
       "      <td>0.1974</td>\n",
       "      <td>0.12790</td>\n",
       "      <td>...</td>\n",
       "      <td>23.57</td>\n",
       "      <td>25.53</td>\n",
       "      <td>152.50</td>\n",
       "      <td>1709.0</td>\n",
       "      <td>0.1444</td>\n",
       "      <td>0.4245</td>\n",
       "      <td>0.4504</td>\n",
       "      <td>0.2430</td>\n",
       "      <td>0.3613</td>\n",
       "      <td>0.08758</td>\n",
       "    </tr>\n",
       "    <tr>\n",
       "      <th>3</th>\n",
       "      <td>4</td>\n",
       "      <td>M</td>\n",
       "      <td>11.42</td>\n",
       "      <td>20.38</td>\n",
       "      <td>77.58</td>\n",
       "      <td>386.1</td>\n",
       "      <td>0.14250</td>\n",
       "      <td>0.28390</td>\n",
       "      <td>0.2414</td>\n",
       "      <td>0.10520</td>\n",
       "      <td>...</td>\n",
       "      <td>14.91</td>\n",
       "      <td>26.50</td>\n",
       "      <td>98.87</td>\n",
       "      <td>567.7</td>\n",
       "      <td>0.2098</td>\n",
       "      <td>0.8663</td>\n",
       "      <td>0.6869</td>\n",
       "      <td>0.2575</td>\n",
       "      <td>0.6638</td>\n",
       "      <td>0.17300</td>\n",
       "    </tr>\n",
       "    <tr>\n",
       "      <th>4</th>\n",
       "      <td>5</td>\n",
       "      <td>M</td>\n",
       "      <td>20.29</td>\n",
       "      <td>14.34</td>\n",
       "      <td>135.10</td>\n",
       "      <td>1297.0</td>\n",
       "      <td>0.10030</td>\n",
       "      <td>0.13280</td>\n",
       "      <td>0.1980</td>\n",
       "      <td>0.10430</td>\n",
       "      <td>...</td>\n",
       "      <td>22.54</td>\n",
       "      <td>16.67</td>\n",
       "      <td>152.20</td>\n",
       "      <td>1575.0</td>\n",
       "      <td>0.1374</td>\n",
       "      <td>0.2050</td>\n",
       "      <td>0.4000</td>\n",
       "      <td>0.1625</td>\n",
       "      <td>0.2364</td>\n",
       "      <td>0.07678</td>\n",
       "    </tr>\n",
       "  </tbody>\n",
       "</table>\n",
       "<p>5 rows × 32 columns</p>\n",
       "</div>"
      ],
      "text/plain": [
       "   id diagnosis  radius_mean  texture_mean  perimeter_mean  area_mean  \\\n",
       "0   1         M        17.99         10.38          122.80     1001.0   \n",
       "1   2         M        20.57         17.77          132.90     1326.0   \n",
       "2   3         M        19.69         21.25          130.00     1203.0   \n",
       "3   4         M        11.42         20.38           77.58      386.1   \n",
       "4   5         M        20.29         14.34          135.10     1297.0   \n",
       "\n",
       "   smoothness_mean  compactness_mean  concavity_mean  concave points_mean  \\\n",
       "0          0.11840           0.27760          0.3001              0.14710   \n",
       "1          0.08474           0.07864          0.0869              0.07017   \n",
       "2          0.10960           0.15990          0.1974              0.12790   \n",
       "3          0.14250           0.28390          0.2414              0.10520   \n",
       "4          0.10030           0.13280          0.1980              0.10430   \n",
       "\n",
       "   ...  radius_worst  texture_worst  perimeter_worst  area_worst  \\\n",
       "0  ...         25.38          17.33           184.60      2019.0   \n",
       "1  ...         24.99          23.41           158.80      1956.0   \n",
       "2  ...         23.57          25.53           152.50      1709.0   \n",
       "3  ...         14.91          26.50            98.87       567.7   \n",
       "4  ...         22.54          16.67           152.20      1575.0   \n",
       "\n",
       "   smoothness_worst  compactness_worst  concavity_worst  concave points_worst  \\\n",
       "0            0.1622             0.6656           0.7119                0.2654   \n",
       "1            0.1238             0.1866           0.2416                0.1860   \n",
       "2            0.1444             0.4245           0.4504                0.2430   \n",
       "3            0.2098             0.8663           0.6869                0.2575   \n",
       "4            0.1374             0.2050           0.4000                0.1625   \n",
       "\n",
       "   symmetry_worst  fractal_dimension_worst  \n",
       "0          0.4601                  0.11890  \n",
       "1          0.2750                  0.08902  \n",
       "2          0.3613                  0.08758  \n",
       "3          0.6638                  0.17300  \n",
       "4          0.2364                  0.07678  \n",
       "\n",
       "[5 rows x 32 columns]"
      ]
     },
     "execution_count": 2,
     "metadata": {},
     "output_type": "execute_result"
    }
   ],
   "source": [
    "data = pd.read_csv('cancer.csv')\n",
    "\n",
    "print(data.shape)\n",
    "\n",
    "data.head()"
   ]
  },
  {
   "cell_type": "code",
   "execution_count": 3,
   "metadata": {
    "colab": {
     "base_uri": "https://localhost:8080/",
     "height": 34
    },
    "id": "QES75u5cnlIL",
    "outputId": "18ec045a-ba76-4c48-ede2-a45e96207d81"
   },
   "outputs": [],
   "source": [
    "# # removing the last column as it is empty\n",
    "\n",
    "# data = data.drop('Unnamed: 32', axis = 1)\n",
    "\n",
    "# print(data.shape)"
   ]
  },
  {
   "cell_type": "code",
   "execution_count": 4,
   "metadata": {
    "colab": {
     "base_uri": "https://localhost:8080/",
     "height": 363
    },
    "id": "gKPgijbYoehp",
    "outputId": "d3649761-74e1-4f59-dff2-33f265196543"
   },
   "outputs": [
    {
     "data": {
      "text/html": [
       "<div>\n",
       "<style scoped>\n",
       "    .dataframe tbody tr th:only-of-type {\n",
       "        vertical-align: middle;\n",
       "    }\n",
       "\n",
       "    .dataframe tbody tr th {\n",
       "        vertical-align: top;\n",
       "    }\n",
       "\n",
       "    .dataframe thead th {\n",
       "        text-align: right;\n",
       "    }\n",
       "</style>\n",
       "<table border=\"1\" class=\"dataframe\">\n",
       "  <thead>\n",
       "    <tr style=\"text-align: right;\">\n",
       "      <th></th>\n",
       "      <th>id</th>\n",
       "      <th>radius_mean</th>\n",
       "      <th>texture_mean</th>\n",
       "      <th>perimeter_mean</th>\n",
       "      <th>area_mean</th>\n",
       "      <th>smoothness_mean</th>\n",
       "      <th>compactness_mean</th>\n",
       "      <th>concavity_mean</th>\n",
       "      <th>concave points_mean</th>\n",
       "      <th>symmetry_mean</th>\n",
       "      <th>...</th>\n",
       "      <th>radius_worst</th>\n",
       "      <th>texture_worst</th>\n",
       "      <th>perimeter_worst</th>\n",
       "      <th>area_worst</th>\n",
       "      <th>smoothness_worst</th>\n",
       "      <th>compactness_worst</th>\n",
       "      <th>concavity_worst</th>\n",
       "      <th>concave points_worst</th>\n",
       "      <th>symmetry_worst</th>\n",
       "      <th>fractal_dimension_worst</th>\n",
       "    </tr>\n",
       "  </thead>\n",
       "  <tbody>\n",
       "    <tr>\n",
       "      <th>count</th>\n",
       "      <td>4552.000000</td>\n",
       "      <td>4552.000000</td>\n",
       "      <td>4552.000000</td>\n",
       "      <td>4552.000000</td>\n",
       "      <td>4552.000000</td>\n",
       "      <td>4552.000000</td>\n",
       "      <td>4552.000000</td>\n",
       "      <td>4552.000000</td>\n",
       "      <td>4552.000000</td>\n",
       "      <td>4552.000000</td>\n",
       "      <td>...</td>\n",
       "      <td>4552.000000</td>\n",
       "      <td>4552.000000</td>\n",
       "      <td>4552.000000</td>\n",
       "      <td>4552.000000</td>\n",
       "      <td>4552.000000</td>\n",
       "      <td>4552.000000</td>\n",
       "      <td>4552.000000</td>\n",
       "      <td>4552.000000</td>\n",
       "      <td>4552.000000</td>\n",
       "      <td>4552.000000</td>\n",
       "    </tr>\n",
       "    <tr>\n",
       "      <th>mean</th>\n",
       "      <td>2276.500000</td>\n",
       "      <td>14.127292</td>\n",
       "      <td>19.289649</td>\n",
       "      <td>91.969033</td>\n",
       "      <td>654.889104</td>\n",
       "      <td>0.096360</td>\n",
       "      <td>0.104341</td>\n",
       "      <td>0.088799</td>\n",
       "      <td>0.048919</td>\n",
       "      <td>0.181162</td>\n",
       "      <td>...</td>\n",
       "      <td>16.269190</td>\n",
       "      <td>25.677223</td>\n",
       "      <td>107.261213</td>\n",
       "      <td>880.583128</td>\n",
       "      <td>0.132369</td>\n",
       "      <td>0.254265</td>\n",
       "      <td>0.272188</td>\n",
       "      <td>0.114606</td>\n",
       "      <td>0.290076</td>\n",
       "      <td>0.083946</td>\n",
       "    </tr>\n",
       "    <tr>\n",
       "      <th>std</th>\n",
       "      <td>1314.193542</td>\n",
       "      <td>3.521338</td>\n",
       "      <td>4.297727</td>\n",
       "      <td>24.280286</td>\n",
       "      <td>351.643381</td>\n",
       "      <td>0.014053</td>\n",
       "      <td>0.052772</td>\n",
       "      <td>0.079658</td>\n",
       "      <td>0.038773</td>\n",
       "      <td>0.027393</td>\n",
       "      <td>...</td>\n",
       "      <td>4.829523</td>\n",
       "      <td>6.141529</td>\n",
       "      <td>33.576690</td>\n",
       "      <td>568.918953</td>\n",
       "      <td>0.022815</td>\n",
       "      <td>0.157215</td>\n",
       "      <td>0.208464</td>\n",
       "      <td>0.065682</td>\n",
       "      <td>0.061820</td>\n",
       "      <td>0.018047</td>\n",
       "    </tr>\n",
       "    <tr>\n",
       "      <th>min</th>\n",
       "      <td>1.000000</td>\n",
       "      <td>6.981000</td>\n",
       "      <td>9.710000</td>\n",
       "      <td>43.790000</td>\n",
       "      <td>143.500000</td>\n",
       "      <td>0.052630</td>\n",
       "      <td>0.019380</td>\n",
       "      <td>0.000000</td>\n",
       "      <td>0.000000</td>\n",
       "      <td>0.106000</td>\n",
       "      <td>...</td>\n",
       "      <td>7.930000</td>\n",
       "      <td>12.020000</td>\n",
       "      <td>50.410000</td>\n",
       "      <td>185.200000</td>\n",
       "      <td>0.071170</td>\n",
       "      <td>0.027290</td>\n",
       "      <td>0.000000</td>\n",
       "      <td>0.000000</td>\n",
       "      <td>0.156500</td>\n",
       "      <td>0.055040</td>\n",
       "    </tr>\n",
       "    <tr>\n",
       "      <th>25%</th>\n",
       "      <td>1138.750000</td>\n",
       "      <td>11.700000</td>\n",
       "      <td>16.170000</td>\n",
       "      <td>75.170000</td>\n",
       "      <td>420.300000</td>\n",
       "      <td>0.086370</td>\n",
       "      <td>0.064920</td>\n",
       "      <td>0.029560</td>\n",
       "      <td>0.020310</td>\n",
       "      <td>0.161900</td>\n",
       "      <td>...</td>\n",
       "      <td>13.010000</td>\n",
       "      <td>21.080000</td>\n",
       "      <td>84.110000</td>\n",
       "      <td>515.300000</td>\n",
       "      <td>0.116600</td>\n",
       "      <td>0.147200</td>\n",
       "      <td>0.114500</td>\n",
       "      <td>0.064930</td>\n",
       "      <td>0.250400</td>\n",
       "      <td>0.071460</td>\n",
       "    </tr>\n",
       "    <tr>\n",
       "      <th>50%</th>\n",
       "      <td>2276.500000</td>\n",
       "      <td>13.370000</td>\n",
       "      <td>18.840000</td>\n",
       "      <td>86.240000</td>\n",
       "      <td>551.100000</td>\n",
       "      <td>0.095870</td>\n",
       "      <td>0.092630</td>\n",
       "      <td>0.061540</td>\n",
       "      <td>0.033500</td>\n",
       "      <td>0.179200</td>\n",
       "      <td>...</td>\n",
       "      <td>14.970000</td>\n",
       "      <td>25.410000</td>\n",
       "      <td>97.660000</td>\n",
       "      <td>686.500000</td>\n",
       "      <td>0.131300</td>\n",
       "      <td>0.211900</td>\n",
       "      <td>0.226700</td>\n",
       "      <td>0.099930</td>\n",
       "      <td>0.282200</td>\n",
       "      <td>0.080040</td>\n",
       "    </tr>\n",
       "    <tr>\n",
       "      <th>75%</th>\n",
       "      <td>3414.250000</td>\n",
       "      <td>15.780000</td>\n",
       "      <td>21.800000</td>\n",
       "      <td>104.100000</td>\n",
       "      <td>782.700000</td>\n",
       "      <td>0.105300</td>\n",
       "      <td>0.130400</td>\n",
       "      <td>0.130700</td>\n",
       "      <td>0.074000</td>\n",
       "      <td>0.195700</td>\n",
       "      <td>...</td>\n",
       "      <td>18.790000</td>\n",
       "      <td>29.720000</td>\n",
       "      <td>125.400000</td>\n",
       "      <td>1084.000000</td>\n",
       "      <td>0.146000</td>\n",
       "      <td>0.339100</td>\n",
       "      <td>0.382900</td>\n",
       "      <td>0.161400</td>\n",
       "      <td>0.317900</td>\n",
       "      <td>0.092080</td>\n",
       "    </tr>\n",
       "    <tr>\n",
       "      <th>max</th>\n",
       "      <td>4552.000000</td>\n",
       "      <td>28.110000</td>\n",
       "      <td>39.280000</td>\n",
       "      <td>188.500000</td>\n",
       "      <td>2501.000000</td>\n",
       "      <td>0.163400</td>\n",
       "      <td>0.345400</td>\n",
       "      <td>0.426800</td>\n",
       "      <td>0.201200</td>\n",
       "      <td>0.304000</td>\n",
       "      <td>...</td>\n",
       "      <td>36.040000</td>\n",
       "      <td>49.540000</td>\n",
       "      <td>251.200000</td>\n",
       "      <td>4254.000000</td>\n",
       "      <td>0.222600</td>\n",
       "      <td>1.058000</td>\n",
       "      <td>1.252000</td>\n",
       "      <td>0.291000</td>\n",
       "      <td>0.663800</td>\n",
       "      <td>0.207500</td>\n",
       "    </tr>\n",
       "  </tbody>\n",
       "</table>\n",
       "<p>8 rows × 31 columns</p>\n",
       "</div>"
      ],
      "text/plain": [
       "                id  radius_mean  texture_mean  perimeter_mean    area_mean  \\\n",
       "count  4552.000000  4552.000000   4552.000000     4552.000000  4552.000000   \n",
       "mean   2276.500000    14.127292     19.289649       91.969033   654.889104   \n",
       "std    1314.193542     3.521338      4.297727       24.280286   351.643381   \n",
       "min       1.000000     6.981000      9.710000       43.790000   143.500000   \n",
       "25%    1138.750000    11.700000     16.170000       75.170000   420.300000   \n",
       "50%    2276.500000    13.370000     18.840000       86.240000   551.100000   \n",
       "75%    3414.250000    15.780000     21.800000      104.100000   782.700000   \n",
       "max    4552.000000    28.110000     39.280000      188.500000  2501.000000   \n",
       "\n",
       "       smoothness_mean  compactness_mean  concavity_mean  concave points_mean  \\\n",
       "count      4552.000000       4552.000000     4552.000000          4552.000000   \n",
       "mean          0.096360          0.104341        0.088799             0.048919   \n",
       "std           0.014053          0.052772        0.079658             0.038773   \n",
       "min           0.052630          0.019380        0.000000             0.000000   \n",
       "25%           0.086370          0.064920        0.029560             0.020310   \n",
       "50%           0.095870          0.092630        0.061540             0.033500   \n",
       "75%           0.105300          0.130400        0.130700             0.074000   \n",
       "max           0.163400          0.345400        0.426800             0.201200   \n",
       "\n",
       "       symmetry_mean  ...  radius_worst  texture_worst  perimeter_worst  \\\n",
       "count    4552.000000  ...   4552.000000    4552.000000      4552.000000   \n",
       "mean        0.181162  ...     16.269190      25.677223       107.261213   \n",
       "std         0.027393  ...      4.829523       6.141529        33.576690   \n",
       "min         0.106000  ...      7.930000      12.020000        50.410000   \n",
       "25%         0.161900  ...     13.010000      21.080000        84.110000   \n",
       "50%         0.179200  ...     14.970000      25.410000        97.660000   \n",
       "75%         0.195700  ...     18.790000      29.720000       125.400000   \n",
       "max         0.304000  ...     36.040000      49.540000       251.200000   \n",
       "\n",
       "        area_worst  smoothness_worst  compactness_worst  concavity_worst  \\\n",
       "count  4552.000000       4552.000000        4552.000000      4552.000000   \n",
       "mean    880.583128          0.132369           0.254265         0.272188   \n",
       "std     568.918953          0.022815           0.157215         0.208464   \n",
       "min     185.200000          0.071170           0.027290         0.000000   \n",
       "25%     515.300000          0.116600           0.147200         0.114500   \n",
       "50%     686.500000          0.131300           0.211900         0.226700   \n",
       "75%    1084.000000          0.146000           0.339100         0.382900   \n",
       "max    4254.000000          0.222600           1.058000         1.252000   \n",
       "\n",
       "       concave points_worst  symmetry_worst  fractal_dimension_worst  \n",
       "count           4552.000000     4552.000000              4552.000000  \n",
       "mean               0.114606        0.290076                 0.083946  \n",
       "std                0.065682        0.061820                 0.018047  \n",
       "min                0.000000        0.156500                 0.055040  \n",
       "25%                0.064930        0.250400                 0.071460  \n",
       "50%                0.099930        0.282200                 0.080040  \n",
       "75%                0.161400        0.317900                 0.092080  \n",
       "max                0.291000        0.663800                 0.207500  \n",
       "\n",
       "[8 rows x 31 columns]"
      ]
     },
     "execution_count": 4,
     "metadata": {},
     "output_type": "execute_result"
    }
   ],
   "source": [
    "data.describe()"
   ]
  },
  {
   "cell_type": "code",
   "execution_count": 5,
   "metadata": {
    "colab": {
     "base_uri": "https://localhost:8080/",
     "height": 646
    },
    "id": "UXggt6G6ojcj",
    "outputId": "62fb65cc-4c8d-4684-8999-6fd27ebedf9d"
   },
   "outputs": [
    {
     "name": "stdout",
     "output_type": "stream",
     "text": [
      "<class 'pandas.core.frame.DataFrame'>\n",
      "RangeIndex: 4552 entries, 0 to 4551\n",
      "Data columns (total 32 columns):\n",
      " #   Column                   Non-Null Count  Dtype  \n",
      "---  ------                   --------------  -----  \n",
      " 0   id                       4552 non-null   int64  \n",
      " 1   diagnosis                4552 non-null   object \n",
      " 2   radius_mean              4552 non-null   float64\n",
      " 3   texture_mean             4552 non-null   float64\n",
      " 4   perimeter_mean           4552 non-null   float64\n",
      " 5   area_mean                4552 non-null   float64\n",
      " 6   smoothness_mean          4552 non-null   float64\n",
      " 7   compactness_mean         4552 non-null   float64\n",
      " 8   concavity_mean           4552 non-null   float64\n",
      " 9   concave points_mean      4552 non-null   float64\n",
      " 10  symmetry_mean            4552 non-null   float64\n",
      " 11  fractal_dimension_mean   4552 non-null   float64\n",
      " 12  radius_se                4552 non-null   float64\n",
      " 13  texture_se               4552 non-null   float64\n",
      " 14  perimeter_se             4552 non-null   float64\n",
      " 15  area_se                  4552 non-null   float64\n",
      " 16  smoothness_se            4552 non-null   float64\n",
      " 17  compactness_se           4552 non-null   float64\n",
      " 18  concavity_se             4552 non-null   float64\n",
      " 19  concave points_se        4552 non-null   float64\n",
      " 20  symmetry_se              4552 non-null   float64\n",
      " 21  fractal_dimension_se     4552 non-null   float64\n",
      " 22  radius_worst             4552 non-null   float64\n",
      " 23  texture_worst            4552 non-null   float64\n",
      " 24  perimeter_worst          4552 non-null   float64\n",
      " 25  area_worst               4552 non-null   float64\n",
      " 26  smoothness_worst         4552 non-null   float64\n",
      " 27  compactness_worst        4552 non-null   float64\n",
      " 28  concavity_worst          4552 non-null   float64\n",
      " 29  concave points_worst     4552 non-null   float64\n",
      " 30  symmetry_worst           4552 non-null   float64\n",
      " 31  fractal_dimension_worst  4552 non-null   float64\n",
      "dtypes: float64(30), int64(1), object(1)\n",
      "memory usage: 1.1+ MB\n"
     ]
    }
   ],
   "source": [
    "data.info()"
   ]
  },
  {
   "cell_type": "code",
   "execution_count": 6,
   "metadata": {
    "colab": {
     "base_uri": "https://localhost:8080/",
     "height": 578
    },
    "id": "Bech-x56oo77",
    "outputId": "51375aa5-9ca9-4934-fbf3-e30162eecac9"
   },
   "outputs": [
    {
     "data": {
      "text/plain": [
       "id                         0\n",
       "diagnosis                  0\n",
       "radius_mean                0\n",
       "texture_mean               0\n",
       "perimeter_mean             0\n",
       "area_mean                  0\n",
       "smoothness_mean            0\n",
       "compactness_mean           0\n",
       "concavity_mean             0\n",
       "concave points_mean        0\n",
       "symmetry_mean              0\n",
       "fractal_dimension_mean     0\n",
       "radius_se                  0\n",
       "texture_se                 0\n",
       "perimeter_se               0\n",
       "area_se                    0\n",
       "smoothness_se              0\n",
       "compactness_se             0\n",
       "concavity_se               0\n",
       "concave points_se          0\n",
       "symmetry_se                0\n",
       "fractal_dimension_se       0\n",
       "radius_worst               0\n",
       "texture_worst              0\n",
       "perimeter_worst            0\n",
       "area_worst                 0\n",
       "smoothness_worst           0\n",
       "compactness_worst          0\n",
       "concavity_worst            0\n",
       "concave points_worst       0\n",
       "symmetry_worst             0\n",
       "fractal_dimension_worst    0\n",
       "dtype: int64"
      ]
     },
     "execution_count": 6,
     "metadata": {},
     "output_type": "execute_result"
    }
   ],
   "source": [
    "data.isnull().sum()"
   ]
  },
  {
   "cell_type": "code",
   "execution_count": 7,
   "metadata": {
    "colab": {
     "base_uri": "https://localhost:8080/",
     "height": 34
    },
    "id": "9Qz8-DxYpGF0",
    "outputId": "c1d57c35-e0c6-47fc-81aa-e23d740bf8b8"
   },
   "outputs": [
    {
     "data": {
      "text/plain": [
       "4552"
      ]
     },
     "execution_count": 7,
     "metadata": {},
     "output_type": "execute_result"
    }
   ],
   "source": [
    "data['id'].nunique()\n",
    "\n",
    "# it shows that all the data are unique that is., each and every row contains information of a cancerous cell is unique"
   ]
  },
  {
   "cell_type": "code",
   "execution_count": 8,
   "metadata": {
    "colab": {
     "base_uri": "https://localhost:8080/",
     "height": 34
    },
    "id": "ricrSlW9tynR",
    "outputId": "f67cd7a0-424f-4562-8c3f-e7efa210325d"
   },
   "outputs": [
    {
     "name": "stdout",
     "output_type": "stream",
     "text": [
      "(4552, 31)\n"
     ]
    }
   ],
   "source": [
    "# removing the id column as it is unique\n",
    "\n",
    "data = data.drop('id', axis = 1)\n",
    "\n",
    "print(data.shape)"
   ]
  },
  {
   "cell_type": "code",
   "execution_count": 9,
   "metadata": {
    "colab": {
     "base_uri": "https://localhost:8080/",
     "height": 68
    },
    "id": "vUalsI_1p2OL",
    "outputId": "f6a13493-167e-43b5-ae6b-e7fc50d3d08f"
   },
   "outputs": [
    {
     "data": {
      "text/plain": [
       "B    2856\n",
       "M    1696\n",
       "Name: diagnosis, dtype: int64"
      ]
     },
     "execution_count": 9,
     "metadata": {},
     "output_type": "execute_result"
    }
   ],
   "source": [
    "# checking the different values contained in the diagnosis column\n",
    "\n",
    "data['diagnosis'].value_counts()\n"
   ]
  },
  {
   "cell_type": "markdown",
   "metadata": {
    "id": "fbQtRAxyqNRs"
   },
   "source": [
    "Here, B referes to benign which means the cells are safe from cancer\n",
    "whereas M refers to Malign which means the cell is very much dangerous and venomous can lead to breast cancer\n",
    "\n",
    "We have to train the data in such a way that it can predict the status of the cells\n",
    "that whether they are M(malign) or B(Benign)."
   ]
  },
  {
   "cell_type": "markdown",
   "metadata": {
    "id": "lYxS30KXowH0"
   },
   "source": [
    "**Data Pre-processing**"
   ]
  },
  {
   "cell_type": "code",
   "execution_count": 10,
   "metadata": {
    "colab": {
     "base_uri": "https://localhost:8080/",
     "height": 34
    },
    "id": "ecqpgbtkosCK",
    "outputId": "05a6b980-7f78-47ca-e71f-0cb088550b0a"
   },
   "outputs": [],
   "source": [
    "# # plotting the pairplot\n",
    "\n",
    "# sns.pairplot(data)"
   ]
  },
  {
   "cell_type": "markdown",
   "metadata": {
    "id": "JVkK0r3drZpZ"
   },
   "source": [
    "**Bivariate Data Analysis**"
   ]
  },
  {
   "cell_type": "code",
   "execution_count": 11,
   "metadata": {
    "id": "bFYo27o1rSdj"
   },
   "outputs": [],
   "source": [
    "# from the graph, we can see that malign cells have greater radius than benign cells in general\n",
    "\n",
    "# fig = plt.figure(figsize = (6,6))\n",
    "# sns.barplot(x = 'diagnosis', y = 'radius_mean', data = data)\n",
    "\n",
    "# plt.title('Diagnosis vs radius_mean')"
   ]
  },
  {
   "cell_type": "code",
   "execution_count": 12,
   "metadata": {
    "id": "ttpQeXQiv94k"
   },
   "outputs": [],
   "source": [
    "# from the graph, we can see that malign cells have greater texture than benign cells in general\n",
    "\n",
    "# fig = plt.figure(figsize = (6,6))\n",
    "# sns.barplot(x = 'diagnosis', y = 'texture_mean', data = data)\n",
    "\n",
    "# plt.title('Diagnosis vs texture_mean')"
   ]
  },
  {
   "cell_type": "code",
   "execution_count": 13,
   "metadata": {
    "id": "V5yQcSVaylzl"
   },
   "outputs": [],
   "source": [
    "# from the graph, we can see that malign cells have greater perimeter than benign cells in general\n",
    "\n",
    "# fig = plt.figure(figsize = (6,6))\n",
    "# sns.barplot(x = 'diagnosis', y = 'perimeter_mean', data = data)\n",
    "\n",
    "# plt.title('Diagnosis vs perimeter_mean')"
   ]
  },
  {
   "cell_type": "code",
   "execution_count": 14,
   "metadata": {
    "id": "xNls4-s7y1a4"
   },
   "outputs": [],
   "source": [
    "# from the graph, we can see that malign cells have greater area than benign cells in general\n",
    "\n",
    "# fig = plt.figure(figsize = (6,6))\n",
    "# sns.barplot(x = 'diagnosis', y = 'area_mean', data = data)\n",
    "\n",
    "# plt.title('Diagnosis vs area_mean')"
   ]
  },
  {
   "cell_type": "code",
   "execution_count": 15,
   "metadata": {
    "id": "5S0PgIkJzC8D"
   },
   "outputs": [],
   "source": [
    "# from the graph, we can see that malign cells have slightly greater smoothness than benign cells in general\n",
    "\n",
    "# fig = plt.figure(figsize = (6,6))\n",
    "# sns.barplot(x = 'diagnosis', y = 'smoothness_mean', data = data)\n",
    "\n",
    "# plt.title('Diagnosis vs smoothness_mean')"
   ]
  },
  {
   "cell_type": "code",
   "execution_count": 16,
   "metadata": {
    "id": "ARZaUIm5zXHG"
   },
   "outputs": [],
   "source": [
    "# from the graph, we can see that malign cells have greater compactness than benign cells in general\n",
    "\n",
    "# fig = plt.figure(figsize = (6,6))\n",
    "# sns.barplot(x = 'diagnosis', y = 'compactness_mean', data = data)\n",
    "\n",
    "# plt.title('Diagnosis vs compactness_mean')"
   ]
  },
  {
   "cell_type": "code",
   "execution_count": 17,
   "metadata": {
    "id": "q2u2-M02z-pw"
   },
   "outputs": [],
   "source": [
    "# from the graph, we can see that malign cells have greater concavity than benign cells in general\n",
    "\n",
    "# fig = plt.figure(figsize = (6,6))\n",
    "# sns.barplot(x = 'diagnosis', y = 'concavity_mean', data = data)\n",
    "\n",
    "# plt.title('Diagnosis vs concavity_mean')"
   ]
  },
  {
   "cell_type": "code",
   "execution_count": 18,
   "metadata": {
    "id": "E-U1C6QD2L_N"
   },
   "outputs": [],
   "source": [
    "# from the graph, we can see that malign cells have much greater concave points_mean than benign cells in general\n",
    "\n",
    "# fig = plt.figure(figsize = (6,6))\n",
    "# sns.barplot(x = 'diagnosis', y = 'concave points_mean', data = data)\n",
    "\n",
    "# plt.title('Diagnosis vs concave points_mean')"
   ]
  },
  {
   "cell_type": "code",
   "execution_count": 19,
   "metadata": {
    "id": "pIH6cDH02l2s"
   },
   "outputs": [],
   "source": [
    "# from the graph, we can see that malign cells have slightly greater symmetry than benign cells in general\n",
    "\n",
    "# fig = plt.figure(figsize = (6,6))\n",
    "# sns.barplot(x = 'diagnosis', y = 'symmetry_mean', data = data)\n",
    "\n",
    "# plt.title('Diagnosis vs symmetry_mean')"
   ]
  },
  {
   "cell_type": "code",
   "execution_count": 20,
   "metadata": {
    "id": "06mpe6In24NE"
   },
   "outputs": [],
   "source": [
    "# from the graph, we can see that malign cells have fractal dimension mean almost equal to that of benign cells in general\n",
    "\n",
    "# fig = plt.figure(figsize = (6,6))\n",
    "# sns.barplot(x = 'diagnosis', y = 'fractal_dimension_mean', data = data)\n",
    "\n",
    "# plt.title('Diagnosis vs fractal_dimension_mean')"
   ]
  },
  {
   "cell_type": "markdown",
   "metadata": {
    "id": "f9-bEUHm3Soh"
   },
   "source": [
    "From the above ten graphs,\n",
    "radius_mean\n",
    "\n",
    "mean of distances from center to points on the perimeter\n",
    "texture_mean\n",
    "\n",
    "standard deviation of gray-scale values\n",
    "perimeter_mean\n",
    "\n",
    "mean size of the core tumor\n",
    "area_mean\n",
    "smoothness_mean\n",
    "\n",
    "mean of local variation in radius lengths\n",
    "compactness_mean\n",
    "\n",
    "mean of perimeter^2 / area - 1.0\n",
    "concavity_mean\n",
    "\n",
    "mean of severity of concave portions of the contour\n",
    "concave points_mean\n",
    "\n",
    "mean for number of concave portions of the contour\n",
    "symmetry_mean\n",
    "fractal_dimension_mean\n",
    "\n",
    "mean for \"coastline approximation\" - 1\n",
    "\n",
    "We have seen that the malign cells have higher values in comparison the benign cells in terms of mean of these parameters, and similarly rest of the 20 columns which are again standard error and worst of all these 10 parameters."
   ]
  },
  {
   "cell_type": "code",
   "execution_count": 21,
   "metadata": {
    "id": "Q5qk7qZl2zxH"
   },
   "outputs": [],
   "source": [
    "# from the graph, we can see that malign cells have greater concavity than benign cells in general\n",
    "\n",
    "# fig = plt.figure(figsize = (6,6))\n",
    "# sns.barplot(x = 'diagnosis', y = 'concavity_mean', data = data)\n",
    "\n",
    "# plt.title('Diagnosis vs concavity_mean')"
   ]
  },
  {
   "cell_type": "code",
   "execution_count": 22,
   "metadata": {
    "id": "IHK4YG6V0Sa0"
   },
   "outputs": [],
   "source": [
    "\n",
    "# f, ax = plt.subplots(figsize=(18, 15))\n",
    "# corr = data.corr()\n",
    "# sns.heatmap(corr, mask=np.zeros_like(corr, dtype=np.bool), cmap=sns.diverging_palette(220, 10, as_cmap=True),\n",
    "#             square=True, ax=ax)"
   ]
  },
  {
   "cell_type": "markdown",
   "metadata": {
    "id": "Q4Q3yj-l0nv1"
   },
   "source": [
    "From the above correlation plot we can easily figure out that items which are very much related to each other and the items which are less related to each other\n",
    "\n",
    "It tells us the degree of relativity amongst all the data items present on the dataset\n",
    "\n",
    "For Example,\n",
    "fractal_dimension_mean and smoothness mean are highly related \n",
    "whereas texture_se and fractal-dimension_mean are very less related to each other."
   ]
  },
  {
   "cell_type": "markdown",
   "metadata": {
    "id": "ER8KY2vkuqK6"
   },
   "source": [
    "**Data preprocessing**"
   ]
  },
  {
   "cell_type": "code",
   "execution_count": 23,
   "metadata": {
    "id": "dEYDm6Kzfhs3"
   },
   "outputs": [
    {
     "data": {
      "text/plain": [
       "0    2856\n",
       "1    1696\n",
       "Name: diagnosis, dtype: int64"
      ]
     },
     "execution_count": 23,
     "metadata": {},
     "output_type": "execute_result"
    }
   ],
   "source": [
    "# label encoding of the dependent variable\n",
    "\n",
    "# importing label encoder\n",
    "from sklearn.preprocessing import LabelEncoder\n",
    "\n",
    "# performing label encoding\n",
    "le = LabelEncoder()\n",
    "data['diagnosis'] = le.fit_transform(data['diagnosis'])\n",
    "\n",
    "# converting y again to a dataframe\n",
    "#y = pd.DataFrame(y)\n",
    "\n",
    "# determining the datatype of y\n",
    "#type(y)\n",
    "\n",
    "data['diagnosis'].value_counts()"
   ]
  },
  {
   "cell_type": "code",
   "execution_count": 24,
   "metadata": {
    "id": "rJuRFU5AuvZd"
   },
   "outputs": [
    {
     "name": "stdout",
     "output_type": "stream",
     "text": [
      "(4552, 30)\n",
      "(4552,)\n"
     ]
    }
   ],
   "source": [
    "# splitting the dependent and independent variables from the dataset\n",
    "\n",
    "x = data.iloc[:,1:]\n",
    "y = data.iloc[:,0]\n",
    "\n",
    "print(x.shape)\n",
    "print(y.shape)"
   ]
  },
  {
   "cell_type": "code",
   "execution_count": 25,
   "metadata": {
    "id": "Pk75MQR8vPfI"
   },
   "outputs": [
    {
     "name": "stdout",
     "output_type": "stream",
     "text": [
      "(3414, 30)\n",
      "(3414,)\n",
      "(1138, 30)\n",
      "(1138,)\n"
     ]
    }
   ],
   "source": [
    "#splitting the dataset into training and testing sets\n",
    "\n",
    "from sklearn.model_selection import train_test_split\n",
    "\n",
    "x_train, x_test, y_train, y_test = train_test_split(x, y, test_size = 0.25, random_state = 16)\n",
    "\n",
    "print(x_train.shape)\n",
    "print(y_train.shape)\n",
    "print(x_test.shape)\n",
    "print(y_test.shape)"
   ]
  },
  {
   "cell_type": "code",
   "execution_count": 26,
   "metadata": {
    "id": "goyFM40FxQF4"
   },
   "outputs": [],
   "source": [
    "# standard scaling \n",
    "\n",
    "from sklearn.preprocessing import StandardScaler\n",
    "\n",
    "sc = StandardScaler()\n",
    "\n",
    "x_train = sc.fit_transform(x_train)\n",
    "x_test = sc.fit_transform(x_test)\n"
   ]
  },
  {
   "cell_type": "markdown",
   "metadata": {
    "id": "UwlO6ae44H55"
   },
   "source": [
    "**Modelling**"
   ]
  },
  {
   "cell_type": "markdown",
   "metadata": {
    "id": "RdubMtQT7Epi"
   },
   "source": [
    "**Support Vector Machine**"
   ]
  },
  {
   "cell_type": "code",
   "execution_count": 28,
   "metadata": {
    "id": "CSWge30_7YEF"
   },
   "outputs": [
    {
     "name": "stdout",
     "output_type": "stream",
     "text": [
      "Training accuracy : 0.9882835383714118\n",
      "Testing accuarcy : 0.9929701230228472\n",
      "              precision    recall  f1-score   support\n",
      "\n",
      "           0       0.99      1.00      0.99       703\n",
      "           1       1.00      0.98      0.99       435\n",
      "\n",
      "    accuracy                           0.99      1138\n",
      "   macro avg       0.99      0.99      0.99      1138\n",
      "weighted avg       0.99      0.99      0.99      1138\n",
      "\n",
      "[[703   0]\n",
      " [  8 427]]\n"
     ]
    }
   ],
   "source": [
    "from sklearn.svm import SVC\n",
    "\n",
    "# creating a model\n",
    "model = SVC()\n",
    "\n",
    "# feeding the training data into the model\n",
    "model.fit(x_train, y_train)\n",
    "\n",
    "# predicting the test set results\n",
    "y_pred = model.predict(x_test)\n",
    "\n",
    "# Calculating the accuracies\n",
    "print(\"Training accuracy :\", model.score(x_train, y_train))\n",
    "print(\"Testing accuarcy :\", model.score(x_test, y_test))\n",
    "\n",
    "# classification report\n",
    "cr = classification_report(y_test, y_pred)\n",
    "print(cr)\n",
    "\n",
    "# confusion matrix \n",
    "cm = confusion_matrix(y_test, y_pred)\n",
    "print(cm)\n"
   ]
  },
  {
   "cell_type": "code",
   "execution_count": 29,
   "metadata": {
    "id": "qPhROpk5-9RY"
   },
   "outputs": [],
   "source": [
    "# using grid search to find the best parameters for svm\n",
    "\n",
    "param = {\n",
    "    'C': [0.8,0.9,1,1.1,1.2,1.3,1.4],\n",
    "    'kernel':['linear', 'rbf'],\n",
    "    'gamma' :[0.1,0.8,0.9,1,1.1,1.2,1.3,1.4]\n",
    "}\n",
    "grid_svc = GridSearchCV(model, param_grid = param, scoring = 'accuracy', cv = 10)\n"
   ]
  },
  {
   "cell_type": "code",
   "execution_count": 30,
   "metadata": {
    "id": "rKHjPVwd_2wX"
   },
   "outputs": [
    {
     "data": {
      "text/plain": [
       "GridSearchCV(cv=10, estimator=SVC(),\n",
       "             param_grid={'C': [0.8, 0.9, 1, 1.1, 1.2, 1.3, 1.4],\n",
       "                         'gamma': [0.1, 0.8, 0.9, 1, 1.1, 1.2, 1.3, 1.4],\n",
       "                         'kernel': ['linear', 'rbf']},\n",
       "             scoring='accuracy')"
      ]
     },
     "execution_count": 30,
     "metadata": {},
     "output_type": "execute_result"
    }
   ],
   "source": [
    "grid_svc.fit(x_train, y_train)"
   ]
  },
  {
   "cell_type": "code",
   "execution_count": 31,
   "metadata": {
    "id": "2e0nDgaCAGuw"
   },
   "outputs": [
    {
     "data": {
      "text/plain": [
       "{'C': 0.8, 'gamma': 0.8, 'kernel': 'rbf'}"
      ]
     },
     "execution_count": 31,
     "metadata": {},
     "output_type": "execute_result"
    }
   ],
   "source": [
    "grid_svc.best_params_"
   ]
  },
  {
   "cell_type": "code",
   "execution_count": 32,
   "metadata": {
    "id": "XNYMwQHeAOL6"
   },
   "outputs": [
    {
     "name": "stdout",
     "output_type": "stream",
     "text": [
      "              precision    recall  f1-score   support\n",
      "\n",
      "           0       0.98      1.00      0.99       703\n",
      "           1       1.00      0.97      0.99       435\n",
      "\n",
      "    accuracy                           0.99      1138\n",
      "   macro avg       0.99      0.99      0.99      1138\n",
      "weighted avg       0.99      0.99      0.99      1138\n",
      "\n",
      "Testing accuarcy : 0.9929701230228472\n"
     ]
    }
   ],
   "source": [
    "# creating a new SVC model with these best parameters\n",
    "\n",
    "model2 = SVC(C = 0.8, gamma = 0.1, kernel = 'linear')\n",
    "model2.fit(x_train, y_train)\n",
    "y_pred = model2.predict(x_test)\n",
    "\n",
    "print(classification_report(y_test, y_pred))\n",
    "\n",
    "print(\"Testing accuarcy :\", model.score(x_test, y_test))"
   ]
  }
 ],
 "metadata": {
  "colab": {
   "collapsed_sections": [],
   "name": "BreastCancerDiagnosis.ipynb",
   "provenance": []
  },
  "kernelspec": {
   "display_name": "Python 3 (ipykernel)",
   "language": "python",
   "name": "python3"
  },
  "language_info": {
   "codemirror_mode": {
    "name": "ipython",
    "version": 3
   },
   "file_extension": ".py",
   "mimetype": "text/x-python",
   "name": "python",
   "nbconvert_exporter": "python",
   "pygments_lexer": "ipython3",
   "version": "3.9.7"
  }
 },
 "nbformat": 4,
 "nbformat_minor": 1
}
